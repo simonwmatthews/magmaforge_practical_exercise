{
 "cells": [
  {
   "cell_type": "code",
   "execution_count": null,
   "metadata": {},
   "outputs": [],
   "source": [
    "import magmaforge\n",
    "import pandas as pd\n",
    "import numpy as np\n",
    "import matplotlib.pyplot as plt"
   ]
  },
  {
   "cell_type": "markdown",
   "metadata": {},
   "source": []
  },
  {
   "cell_type": "code",
   "execution_count": null,
   "metadata": {},
   "outputs": [],
   "source": [
    "comp={\n",
    "    'BSE': {\n",
    "        'SiO2': 45.97,\n",
    "        'TiO2':  0.18,\n",
    "        'Al2O3': 4.77,\n",
    "        'Fe2O3': 1e-7,\n",
    "        'FeO':   8.24,\n",
    "        'MnO':   0.0,\n",
    "        'MgO':  36.66,\n",
    "        'CaO':   3.78,\n",
    "        'Na2O':  0.35,\n",
    "        'K2O':   0.04,},\n",
    "    'BSE_MS95': {\n",
    "        'SiO2': 45.5,\n",
    "        'TiO2':  0.00001,\n",
    "        'Al2O3': 4.50,\n",
    "        'FeO':   8.15,\n",
    "        'MnO':   0.0,\n",
    "        'MgO':  38.3,\n",
    "        'CaO':   3.58,\n",
    "        'Na2O':  0.00001,\n",
    "        'K2O':   0.0,},\n",
    "}\n",
    "\n",
    "\n",
    "P = 24e3\n",
    "T0 = 2200.0\n",
    "Tfinal = 1600 + 273-100\n",
    "\n",
    "BSE = comp['BSE_MS95']\n",
    "dNNO = -5\n",
    "\n",
    "model_name = 'pMELTS'"
   ]
  },
  {
   "cell_type": "code",
   "execution_count": null,
   "metadata": {},
   "outputs": [],
   "source": [
    "comp_IW0 = magmaforge.System.adjust_init_redox(T0, P, BSE, dNNO, 'NNO', model_name)\n",
    "Tliq = magmaforge.System.get_liquidus_temp(T0, P, comp_IW0, model_name)\n",
    "comp_IW = magmaforge.System.adjust_init_redox(Tliq, P, BSE, dNNO, 'NNO', model_name)\n",
    "\n",
    "print(Tliq)"
   ]
  },
  {
   "cell_type": "code",
   "execution_count": null,
   "metadata": {},
   "outputs": [],
   "source": [
    "\n",
    "comp_non_Fe = comp_IW.drop(labels=['FeO','Fe2O3']) \n",
    "comp_non_Fe0 = (comp_IW0*comp_IW['SiO2']/comp_IW0['SiO2']).drop(labels=['FeO','Fe2O3'])\n",
    "assert np.allclose(comp_non_Fe, comp_non_Fe0), 'Non-Fe oxide components should not change.'"
   ]
  },
  {
   "cell_type": "code",
   "execution_count": null,
   "metadata": {},
   "outputs": [],
   "source": [
    "sys_T = magmaforge.System(comp=comp_IW, T0=Tliq, P=P,\n",
    "                          melt_frac_cutoff=.15, Tfinal=Tfinal, model_name=model_name)\n",
    "\n",
    "Sliq = sys_T.total_entropy\n",
    "print(Sliq)\n",
    "\n",
    "sys_S = magmaforge.System(comp=comp_IW, T0=Tliq, P=P, \n",
    "                          min_potential='H', S0=Sliq, model_name=model_name)\n",
    "\n",
    "print(sys_S.total_entropy)\n",
    "\n",
    "print(sys_T.state.conditions)\n",
    "print(f\"Fe2O3 = {sys_T.state.liquid.comp['Fe2O3']}\")\n",
    "\n",
    "print(sys_S.state.conditions)\n",
    "print(f\"Fe2O3 = {sys_S.state.liquid.comp['Fe2O3']}\")"
   ]
  },
  {
   "cell_type": "code",
   "execution_count": null,
   "metadata": {},
   "outputs": [],
   "source": [
    "sys_T.crystallize(method='equil', Tstep=5)"
   ]
  },
  {
   "cell_type": "code",
   "execution_count": null,
   "metadata": {},
   "outputs": [],
   "source": [
    "while(sys_S.mass_fraction > 0.15):\n",
    "    sys_S.cool(dS=1)\n",
    "    print(sys_S.T)\n",
    "    if sys_S.T < Tfinal:\n",
    "        break"
   ]
  },
  {
   "cell_type": "code",
   "execution_count": null,
   "metadata": {},
   "outputs": [],
   "source": []
  },
  {
   "cell_type": "code",
   "execution_count": null,
   "metadata": {},
   "outputs": [],
   "source": [
    "plt.figure()\n",
    "plt.plot(sys_S.history.get_temps()-273, sys_S.history.get_melt_frac(),'.-', label='S')\n",
    "plt.plot(sys_T.history.get_temps()-273, sys_T.history.get_melt_frac(),'--', label='T')\n",
    "plt.xlabel('T')\n",
    "plt.ylabel('melt frac')\n",
    "plt.legend()\n",
    "\n",
    "plt.figure()\n",
    "plt.plot(sys_S.history.get_temps()-273, sys_S.history.get_total_entropy(),'.-', label='S')\n",
    "plt.plot(sys_T.history.get_temps()-273, sys_T.history.get_total_entropy(),'--', label='T')\n",
    "plt.xlabel('T')\n",
    "plt.ylabel('Stot')"
   ]
  },
  {
   "cell_type": "code",
   "execution_count": null,
   "metadata": {},
   "outputs": [],
   "source": [
    "magmaforge.plot.magma_evolution(sys_T.history, T_lims=[1475, 1700])"
   ]
  },
  {
   "cell_type": "code",
   "execution_count": null,
   "metadata": {},
   "outputs": [],
   "source": [
    "magmaforge.plot.magma_evolution(sys_S.history, T_lims=[1475, 1700])"
   ]
  },
  {
   "cell_type": "code",
   "execution_count": null,
   "metadata": {},
   "outputs": [],
   "source": []
  }
 ],
 "metadata": {
  "kernelspec": {
   "display_name": "Python 3.9.7 ('base')",
   "language": "python",
   "name": "python3"
  },
  "language_info": {
   "codemirror_mode": {
    "name": "ipython",
    "version": 3
   },
   "file_extension": ".py",
   "mimetype": "text/x-python",
   "name": "python",
   "nbconvert_exporter": "python",
   "pygments_lexer": "ipython3",
   "version": "3.9.7"
  },
  "orig_nbformat": 4,
  "vscode": {
   "interpreter": {
    "hash": "d4d1e4263499bec80672ea0156c357c1ee493ec2b1c70f0acce89fc37c4a6abe"
   }
  }
 },
 "nbformat": 4,
 "nbformat_minor": 2
}
