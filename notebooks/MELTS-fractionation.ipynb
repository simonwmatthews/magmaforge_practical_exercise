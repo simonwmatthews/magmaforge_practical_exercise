{
 "cells": [
  {
   "cell_type": "markdown",
   "metadata": {},
   "source": [
    "# MELTS\n",
    "  \n",
    "Versions of MELTS implemented are:  \n",
    "- MELTS v. 1.0.2 ➞ (rhyolite-MELTS, Gualda et al., 2012)  \n",
    "- MELTS v. 1.1.0 ➞ (rhyolite-MELTS + new CO<sub>2</sub>, works at the ternary minimum)  \n",
    "- MELTS v. 1.2.0 ➞ (rhyolite-MELTS + new H<sub>2</sub>O + new CO<sub>2</sub>)  \n",
    "- pMELTS v. 5.6.1"
   ]
  },
  {
   "cell_type": "markdown",
   "metadata": {},
   "source": [
    "## Initialize tools and packages that are required to execute this notebook."
   ]
  },
  {
   "cell_type": "code",
   "execution_count": null,
   "metadata": {},
   "outputs": [],
   "source": [
    "from thermoengine import equilibrate\n",
    "import matplotlib.pyplot as plt\n",
    "import numpy as np\n",
    "%matplotlib inline"
   ]
  },
  {
   "cell_type": "markdown",
   "metadata": {},
   "source": [
    "## Create a MELTS v 1.0.2 instance.\n",
    "Rhyolite-MELTS version 1.0.2 is the default model."
   ]
  },
  {
   "cell_type": "code",
   "execution_count": null,
   "metadata": {},
   "outputs": [],
   "source": [
    "melts = equilibrate.MELTSmodel()"
   ]
  },
  {
   "cell_type": "markdown",
   "metadata": {},
   "source": [
    "### Optional: Generate some information about the implemented model."
   ]
  },
  {
   "cell_type": "code",
   "execution_count": null,
   "metadata": {},
   "outputs": [],
   "source": [
    "oxides = melts.get_oxide_names()\n",
    "phases = melts.get_phase_names()\n",
    "#print (oxides)\n",
    "#print (phases)"
   ]
  },
  {
   "cell_type": "markdown",
   "metadata": {},
   "source": [
    "## Required: Input initial composition of the system (liquid), in wt% or grams of oxides. \n",
    "Mid-Atlantic ridge MORB composition"
   ]
  },
  {
   "cell_type": "code",
   "execution_count": null,
   "metadata": {},
   "outputs": [],
   "source": [
    "feasible = melts.set_bulk_composition({'SiO2':  48.68, \n",
    "                                       'TiO2':   1.01, \n",
    "                                       'Al2O3': 17.64, \n",
    "                                       'Fe2O3':  0.89,\n",
    "                                       'Cr2O3':  0.0425, \n",
    "                                       'FeO':    7.59, \n",
    "                                       'MnO':    0.0,\n",
    "                                       'MgO':    9.10, \n",
    "                                       'NiO':    0.0, \n",
    "                                       'CoO':    0.0,\n",
    "                                       'CaO':   12.45, \n",
    "                                       'Na2O':   2.65, \n",
    "                                       'K2O':    0.03, \n",
    "                                       'P2O5':   0.08, \n",
    "                                       'H2O':    0.2})"
   ]
  },
  {
   "cell_type": "markdown",
   "metadata": {},
   "source": [
    "## Optional: Suppress phases that are not required in the simulation."
   ]
  },
  {
   "cell_type": "code",
   "execution_count": null,
   "metadata": {},
   "outputs": [],
   "source": [
    "b = melts.get_phase_inclusion_status()\n",
    "melts.set_phase_inclusion_status({'Nepheline':False, 'OrthoOxide':False})\n",
    "a = melts.get_phase_inclusion_status()\n",
    "for phase in b.keys():\n",
    "    if b[phase] != a[phase]:\n",
    "        print (\"{0:<15s} Before: {1:<5s} After: {2:<5s}\".format(phase, repr(b[phase]), repr(a[phase])))"
   ]
  },
  {
   "cell_type": "markdown",
   "metadata": {},
   "source": [
    "## Compute the equilibrium state at some specified T (°C) and P (MPa).\n",
    "Print status of the calculation."
   ]
  },
  {
   "cell_type": "code",
   "execution_count": null,
   "metadata": {},
   "outputs": [],
   "source": [
    "output = melts.equilibrate_tp(1220.0, 100.0, initialize=True)\n",
    "(status, t, p, xmlout) = output[0]\n",
    "print (status, t, p)"
   ]
  },
  {
   "cell_type": "markdown",
   "metadata": {},
   "source": [
    "### Summary output of equilibrium state ..."
   ]
  },
  {
   "cell_type": "code",
   "execution_count": null,
   "metadata": {},
   "outputs": [],
   "source": [
    "melts.output_summary(xmlout)\n",
    "dict = melts.get_dictionary_of_affinities(xmlout, sort=True)\n",
    "for phase in dict:\n",
    "    (affinity, formulae) = dict[phase]\n",
    "    if affinity < 10000.0:\n",
    "        print (\"{0:<20s} {1:10.2f} {2:<60s}\".format(phase, affinity, formulae))"
   ]
  },
  {
   "cell_type": "markdown",
   "metadata": {},
   "source": [
    "### Obtain default set of fractionation coefficients (retain liquids, fractionate solids and fluids)"
   ]
  },
  {
   "cell_type": "code",
   "execution_count": null,
   "metadata": {},
   "outputs": [],
   "source": [
    "frac_coeff = melts.get_dictionary_of_default_fractionation_coefficients()\n",
    "print (frac_coeff)"
   ]
  },
  {
   "cell_type": "markdown",
   "metadata": {},
   "source": [
    "## Run the sequence of calculations along a T, P=constant path:\n",
    "Output is sent to an Excel file and plotted in the notebook"
   ]
  },
  {
   "cell_type": "code",
   "execution_count": null,
   "metadata": {},
   "outputs": [],
   "source": [
    "number_of_steps = 40\n",
    "t_increment_of_steps = -5.0\n",
    "p_increment_of_steps = 0.0\n",
    "\n",
    "plotOxides = ['SiO2', 'FeO', 'MgO', 'CaO', 'Na2O']\n",
    "# matplotlib colors b : blue, g : green, r : red, c : cyan, m : magenta, y : yellow, k : black, w : white.\n",
    "plotColors = [ 'ro', 'bo', 'go', 'co', 'mo']\n",
    "\n",
    "wb = melts.start_excel_workbook_with_sheet_name(sheetName=\"Summary\")\n",
    "melts.update_excel_workbook(wb, xmlout)\n",
    "\n",
    "n = len(plotOxides)\n",
    "xPlot = np.zeros(number_of_steps+1)\n",
    "yPlot = np.zeros((n, number_of_steps+1))\n",
    "xPlot[0] = t\n",
    "for i in range (0, n):\n",
    "    oxides = melts.get_composition_of_phase(xmlout, 'Liquid')\n",
    "    yPlot[i][0] = oxides[plotOxides[i]]\n",
    "\n",
    "plt.ion()\n",
    "fig = plt.figure()\n",
    "ax = fig.add_subplot(111)\n",
    "ax.set_xlim([min(t, t+t_increment_of_steps*number_of_steps), max(t, t+t_increment_of_steps*number_of_steps)])\n",
    "ax.set_ylim([0., 100.])\n",
    "graphs = []\n",
    "for i in range (0, n):\n",
    "    graphs.append(ax.plot(xPlot, yPlot[i], plotColors[i]))\n",
    "handle = []\n",
    "for (graph,) in graphs:\n",
    "    handle.append(graph)\n",
    "ax.legend(handle, plotOxides, loc='upper left')\n",
    "\n",
    "for i in range (1, number_of_steps):\n",
    "    # fractionate phases\n",
    "    frac_output = melts.fractionate_phases(xmlout, frac_coeff)\n",
    "    output = melts.equilibrate_tp(t+t_increment_of_steps, p+p_increment_of_steps, initialize=True)\n",
    "    (status, t, p, xmlout) = output[0]\n",
    "    print (\"{0:<30s} {1:8.2f} {2:8.2f}\".format(status, t, p))\n",
    "    xPlot[i] = t\n",
    "    for j in range (0, n):\n",
    "        oxides = melts.get_composition_of_phase(xmlout, 'Liquid')\n",
    "        yPlot[j][i] = oxides[plotOxides[j]]\n",
    "    j = 0\n",
    "    for (graph,) in graphs:\n",
    "        graph.set_xdata(xPlot)\n",
    "        graph.set_ydata(yPlot[j])\n",
    "        j = j + 1\n",
    "    fig.canvas.draw()\n",
    "    melts.update_excel_workbook(wb, xmlout)\n",
    "\n"
   ]
  },
  {
   "cell_type": "code",
   "execution_count": null,
   "metadata": {},
   "outputs": [],
   "source": []
  },
  {
   "cell_type": "code",
   "execution_count": null,
   "metadata": {},
   "outputs": [],
   "source": [
    "# Temporarily avoid writing excel file to disk\n",
    "# melts.write_excel_workbook(wb, \"MELTSv102summary.xlsx\")"
   ]
  },
  {
   "cell_type": "code",
   "execution_count": null,
   "metadata": {},
   "outputs": [],
   "source": []
  },
  {
   "cell_type": "code",
   "execution_count": null,
   "metadata": {},
   "outputs": [],
   "source": []
  },
  {
   "cell_type": "code",
   "execution_count": null,
   "metadata": {},
   "outputs": [],
   "source": []
  }
 ],
 "metadata": {
  "anaconda-cloud": {},
  "kernelspec": {
   "display_name": "Python 3.9.7 ('base')",
   "language": "python",
   "name": "python3"
  },
  "language_info": {
   "codemirror_mode": {
    "name": "ipython",
    "version": 3
   },
   "file_extension": ".py",
   "mimetype": "text/x-python",
   "name": "python",
   "nbconvert_exporter": "python",
   "pygments_lexer": "ipython3",
   "version": "3.9.7"
  },
  "vscode": {
   "interpreter": {
    "hash": "d4d1e4263499bec80672ea0156c357c1ee493ec2b1c70f0acce89fc37c4a6abe"
   }
  }
 },
 "nbformat": 4,
 "nbformat_minor": 4
}
