{
 "cells": [
  {
   "cell_type": "code",
   "execution_count": null,
   "metadata": {},
   "outputs": [],
   "source": [
    "import magmaforge\n",
    "import pandas as pd\n",
    "import numpy as np\n",
    "import matplotlib.pyplot as plt"
   ]
  },
  {
   "cell_type": "markdown",
   "metadata": {},
   "source": []
  },
  {
   "cell_type": "code",
   "execution_count": null,
   "metadata": {},
   "outputs": [],
   "source": [
    "def _convert_temp_index(df, T_unit):\n",
    "    if T_unit == 'C':\n",
    "        df.index = df.index - 273.15\n",
    "        T_label = 'Temp [C]'\n",
    "    elif T_unit == 'K':\n",
    "        T_label = 'Temp [K]'\n",
    "    else:\n",
    "        assert False, 'Not a valid T_unit choice. Choose from [\"K\", \"C\"].'\n",
    "        \n",
    "    return df, T_label\n",
    "    \n",
    "\n",
    "def plot_phase_fractions(phase_frac_tbl, ax=None, T_unit='C'):\n",
    "    mineral_frac_tbl = phase_frac_tbl.drop(columns=['Liquid','Water'])\n",
    "    \n",
    "    mineral_frac_tbl, T_label = _convert_temp_index(mineral_frac_tbl, T_unit)\n",
    "        \n",
    "    fTOL = 1e-4\n",
    "    cols = mineral_frac_tbl.max(axis=0)>fTOL\n",
    "    \n",
    "    abundant_phs_tbl = mineral_frac_tbl.loc[::-1, cols].astype('float')\n",
    "\n",
    "    abundant_phs_tbl.index = np.round(abundant_phs_tbl.index).astype('int')\n",
    "    crystallization_tbl = pd.DataFrame(columns=abundant_phs_tbl.columns, \n",
    "                                       index=range(abundant_phs_tbl.index.min(),\n",
    "                                                   abundant_phs_tbl.index.max()+1),\n",
    "                                       dtype='float')\n",
    "    \n",
    "    crystallization_tbl.update(abundant_phs_tbl)\n",
    "    crystallization_tbl = crystallization_tbl.interpolate(method='index')\n",
    "\n",
    "    crystallization_tbl.plot.bar(stacked=True, ax=ax, width=1)\n",
    "\n",
    "    if ax is None:\n",
    "        ax = plt.gca()\n",
    "        \n",
    "    ax.set_xlabel(T_label)\n",
    "    ax.set_ylabel('Mass Fraction')\n",
    "    ax.set_xticks([])\n",
    "    \n",
    "def plot_magma_evolution(history, T_lims = None, T_unit='C'):\n",
    "    phase_frac_tbl = history.phase_frac_table\n",
    "    \n",
    "    liq_comp = history.liquid_comp_table\n",
    "    liq_comp, T_label = _convert_temp_index(liq_comp, T_unit)\n",
    "\n",
    "    fig, ax = plt.subplots(nrows=3, sharex=False, squeeze=True, figsize=(5,10) )\n",
    "\n",
    "    iax = ax[0]\n",
    "    plot_phase_fractions(phase_frac_tbl, ax=iax, T_unit=T_unit)\n",
    "    iax.set_xticklabels([])\n",
    "    iax.set_xlabel('')\n",
    "\n",
    "    iax=ax[1]\n",
    "    liq_comp.plot(y=['MgO','FeO','Fe2O3','Al2O3','K2O','Na2O','H2O'], ax=iax).legend(loc='upper left')\n",
    "    iax.set_ylabel('Magma Comp [wt%]')\n",
    "    iax.set_xticklabels([])\n",
    "\n",
    "\n",
    "    iax=ax[2]\n",
    "    liq_comp.plot(y='SiO2', ax=iax, legend=True)\n",
    "    iax.set_xlabel(T_label)\n",
    "    iax.set_ylabel('Magma Comp [wt%]')\n",
    "    \n",
    "    if T_lims is not None:\n",
    "        ax[1].set_xlim(T_lims)\n",
    "        ax[2].set_xlim(T_lims)\n",
    "    \n",
    "    data_lims = [liq_comp.index.min(), liq_comp.index.max()]\n",
    "        \n",
    "    axT_lims = np.round(ax[2].get_xlim())\n",
    "    \n",
    "    _adjust_bar_plot_limits(data_lims, axT_lims, ax[0])\n",
    "    \n",
    "def _adjust_bar_plot_limits(data_lims, ax_lims, ax_bar:plt.axis) -> None:\n",
    "        \n",
    "    bar_plot_lims = ax_bar.get_xlim()\n",
    "\n",
    "    def xpos_map(Tvalue):\n",
    "        slope = (bar_plot_lims[1]-bar_plot_lims[0])/(data_lims[1]-data_lims[0])\n",
    "        return bar_plot_lims[0] + (Tvalue-data_lims[0])*slope\n",
    "    \n",
    "    expand_xlims = [0,0]\n",
    "    expand_xlims[0] = xpos_map(ax_lims[0])\n",
    "    expand_xlims[1] = xpos_map(ax_lims[1])\n",
    "    ax_bar.set_xlim(expand_xlims)\n",
    "    "
   ]
  },
  {
   "cell_type": "code",
   "execution_count": null,
   "metadata": {},
   "outputs": [],
   "source": []
  },
  {
   "cell_type": "code",
   "execution_count": null,
   "metadata": {},
   "outputs": [],
   "source": []
  },
  {
   "cell_type": "code",
   "execution_count": null,
   "metadata": {},
   "outputs": [],
   "source": [
    "comp={\n",
    "    'BSE': {\n",
    "        'SiO2': 45.97,\n",
    "        'TiO2':  0.18,\n",
    "        'Al2O3': 4.77,\n",
    "        'Fe2O3': 1e-7,\n",
    "        'FeO':   8.24,\n",
    "        'MnO':   0.0,\n",
    "        'MgO':  36.66,\n",
    "        'CaO':   3.78,\n",
    "        'Na2O':  0.35,\n",
    "        'K2O':   0.04,},\n",
    "    'BSE_MS95': {\n",
    "        'SiO2': 45.5,\n",
    "        'TiO2':  0.00001,\n",
    "        'Al2O3': 4.50,\n",
    "        'FeO':   8.15,\n",
    "        'MnO':   0.0,\n",
    "        'MgO':  38.3,\n",
    "        'CaO':   3.58,\n",
    "        'Na2O':  0.00001,\n",
    "        'K2O':   0.0,},\n",
    "}\n",
    "# T0 = 1600.00+273+50\n",
    "# P = 40e3\n",
    "P = 24e3\n",
    "T0 = 2200.0\n",
    "Tfinal = 1600 + 273-100\n",
    "\n",
    "BSE = comp['BSE_MS95']\n",
    "dNNO = -5\n",
    "# BSE = comp['BSE']\n",
    "\n",
    "model_name = 'pMELTS'"
   ]
  },
  {
   "cell_type": "code",
   "execution_count": null,
   "metadata": {},
   "outputs": [],
   "source": []
  },
  {
   "cell_type": "code",
   "execution_count": null,
   "metadata": {},
   "outputs": [],
   "source": []
  },
  {
   "cell_type": "code",
   "execution_count": null,
   "metadata": {},
   "outputs": [],
   "source": [
    "\n",
    "def adjust_init_redox(T0:float, P0:float, comp:dict, del_fO2:float, O2_buffer:str, model_name:str):\n",
    "    sys_O2 = magmaforge.System(comp=comp, T0=T0, P=P0, del_fO2=del_fO2, O2_buffer=O2_buffer, \n",
    "                               model_name=model_name)\n",
    "    # S0 = sys_O2.total_entropy\n",
    "    # S0 = S0 * sys_O2.state.liquid.comp.sum()/sys_O2.state.properties.mass_tot\n",
    "\n",
    "    comp_adj = sys_O2.state.liquid.comp\n",
    "    return comp_adj\n"
   ]
  },
  {
   "cell_type": "code",
   "execution_count": null,
   "metadata": {},
   "outputs": [],
   "source": []
  },
  {
   "cell_type": "code",
   "execution_count": null,
   "metadata": {},
   "outputs": [],
   "source": [
    "comp_IW0 = adjust_init_redox(T0, P, BSE, dNNO, 'NNO', model_name)"
   ]
  },
  {
   "cell_type": "code",
   "execution_count": null,
   "metadata": {},
   "outputs": [],
   "source": []
  },
  {
   "cell_type": "code",
   "execution_count": null,
   "metadata": {},
   "outputs": [],
   "source": []
  },
  {
   "cell_type": "code",
   "execution_count": null,
   "metadata": {},
   "outputs": [],
   "source": [
    "def get_liquidus_temp(T0, P, comp, model_name):\n",
    "    \n",
    "    def _step_down_to_liquidus(T0, Tstep, P=P, comp=comp, model_name=model_name):\n",
    "        sys_T = magmaforge.System(comp=comp, T0=T0, P=P,\n",
    "                                melt_frac_cutoff=.99, model_name=model_name)\n",
    "        sys_T.crystallize(method='equil', Tstep=Tstep)\n",
    "\n",
    "        T_liquidus = sys_T.history.get_temps()[sys_T.history.get_melt_frac()==1][-1]\n",
    "        return T_liquidus\n",
    "    \n",
    "    T_liquidus = _step_down_to_liquidus(T0, 10)\n",
    "    T_liquidus = _step_down_to_liquidus(T_liquidus, 1)\n",
    "    \n",
    "    return T_liquidus\n",
    "\n"
   ]
  },
  {
   "cell_type": "code",
   "execution_count": null,
   "metadata": {},
   "outputs": [],
   "source": [
    "Tliq = get_liquidus_temp(T0, P, comp_IW0, model_name)"
   ]
  },
  {
   "cell_type": "code",
   "execution_count": null,
   "metadata": {},
   "outputs": [],
   "source": [
    "Tliq"
   ]
  },
  {
   "cell_type": "code",
   "execution_count": null,
   "metadata": {},
   "outputs": [],
   "source": []
  },
  {
   "cell_type": "code",
   "execution_count": null,
   "metadata": {},
   "outputs": [],
   "source": [
    "comp_IW = adjust_init_redox(Tliq, P, BSE, dNNO, 'NNO', model_name)"
   ]
  },
  {
   "cell_type": "code",
   "execution_count": null,
   "metadata": {},
   "outputs": [],
   "source": [
    "comp_IW-comp_IW0"
   ]
  },
  {
   "cell_type": "code",
   "execution_count": null,
   "metadata": {},
   "outputs": [],
   "source": [
    "comp_IW-comp_IW0*comp_IW['SiO2']/comp_IW0['SiO2']"
   ]
  },
  {
   "cell_type": "code",
   "execution_count": null,
   "metadata": {},
   "outputs": [],
   "source": []
  },
  {
   "cell_type": "code",
   "execution_count": null,
   "metadata": {},
   "outputs": [],
   "source": []
  },
  {
   "cell_type": "code",
   "execution_count": null,
   "metadata": {},
   "outputs": [],
   "source": []
  },
  {
   "cell_type": "code",
   "execution_count": null,
   "metadata": {},
   "outputs": [],
   "source": [
    "T0 = Tliq"
   ]
  },
  {
   "cell_type": "code",
   "execution_count": null,
   "metadata": {},
   "outputs": [],
   "source": [
    "sys_T = magmaforge.System(comp=comp_IW, T0=T0, P=P,\n",
    "                          melt_frac_cutoff=.15, Tfinal=Tfinal, model_name=model_name)\n",
    "\n",
    "S0 = sys_T.total_entropy\n",
    "print(S0)\n",
    "\n",
    "sys_S = magmaforge.System(comp=comp_IW, T0=T0, P=P, \n",
    "                          min_potential='H', S0=S0, model_name=model_name)\n",
    "\n",
    "S0 = sys_S.total_entropy\n",
    "print(S0)\n"
   ]
  },
  {
   "cell_type": "code",
   "execution_count": null,
   "metadata": {},
   "outputs": [],
   "source": [
    "\n",
    "print(sys_T.state.conditions)\n",
    "print(sys_T.state.liquid.comp['Fe2O3'])\n",
    "\n",
    "print(sys_S.state.conditions)\n",
    "print(sys_S.state.liquid.comp['Fe2O3'])"
   ]
  },
  {
   "cell_type": "code",
   "execution_count": null,
   "metadata": {},
   "outputs": [],
   "source": []
  },
  {
   "cell_type": "code",
   "execution_count": null,
   "metadata": {},
   "outputs": [],
   "source": []
  },
  {
   "cell_type": "code",
   "execution_count": null,
   "metadata": {},
   "outputs": [],
   "source": []
  },
  {
   "cell_type": "code",
   "execution_count": null,
   "metadata": {},
   "outputs": [],
   "source": []
  },
  {
   "cell_type": "code",
   "execution_count": null,
   "metadata": {},
   "outputs": [],
   "source": []
  },
  {
   "cell_type": "code",
   "execution_count": null,
   "metadata": {},
   "outputs": [],
   "source": [
    "sys_T.crystallize(method='equil', Tstep=5)"
   ]
  },
  {
   "cell_type": "code",
   "execution_count": null,
   "metadata": {},
   "outputs": [],
   "source": []
  },
  {
   "cell_type": "code",
   "execution_count": null,
   "metadata": {},
   "outputs": [],
   "source": []
  },
  {
   "cell_type": "code",
   "execution_count": null,
   "metadata": {},
   "outputs": [],
   "source": [
    "plot_magma_evolution(sys_T.history)"
   ]
  },
  {
   "cell_type": "code",
   "execution_count": null,
   "metadata": {},
   "outputs": [],
   "source": [
    "plt.figure()\n",
    "plt.plot(sys_T.history.get_temps(), sys_T.history.get_melt_frac(),'.-')\n",
    "plt.figure()\n",
    "plt.plot(sys_T.history.get_temps(), sys_T.history.get_total_entropy(),'.-')"
   ]
  },
  {
   "cell_type": "code",
   "execution_count": null,
   "metadata": {},
   "outputs": [],
   "source": []
  },
  {
   "cell_type": "code",
   "execution_count": null,
   "metadata": {},
   "outputs": [],
   "source": [
    "T0"
   ]
  },
  {
   "cell_type": "code",
   "execution_count": null,
   "metadata": {},
   "outputs": [],
   "source": []
  },
  {
   "cell_type": "code",
   "execution_count": null,
   "metadata": {},
   "outputs": [],
   "source": [
    "while(sys_S.mass_fraction > 0.15):\n",
    "    sys_S.cool(dS=1)\n",
    "    print(sys_S.T)\n",
    "    if sys_S.T < Tfinal:\n",
    "        break"
   ]
  },
  {
   "cell_type": "code",
   "execution_count": null,
   "metadata": {},
   "outputs": [],
   "source": []
  },
  {
   "cell_type": "code",
   "execution_count": null,
   "metadata": {},
   "outputs": [],
   "source": []
  },
  {
   "cell_type": "code",
   "execution_count": null,
   "metadata": {},
   "outputs": [],
   "source": [
    "plt.figure()\n",
    "plt.plot(sys_S.history.get_temps()-273, sys_S.history.get_melt_frac(),'.-', label='S')\n",
    "plt.plot(sys_T.history.get_temps()-273, sys_T.history.get_melt_frac(),'--', label='T')\n",
    "plt.xlabel('T')\n",
    "plt.ylabel('melt frac')\n",
    "plt.legend()\n",
    "\n",
    "plt.figure()\n",
    "plt.plot(sys_S.history.get_temps()-273, sys_S.history.get_total_entropy(),'.-', label='S')\n",
    "plt.plot(sys_T.history.get_temps()-273, sys_T.history.get_total_entropy(),'--', label='T')\n",
    "plt.xlabel('T')\n",
    "plt.ylabel('Stot')"
   ]
  },
  {
   "cell_type": "code",
   "execution_count": null,
   "metadata": {},
   "outputs": [],
   "source": []
  },
  {
   "cell_type": "code",
   "execution_count": null,
   "metadata": {},
   "outputs": [],
   "source": []
  },
  {
   "cell_type": "code",
   "execution_count": null,
   "metadata": {},
   "outputs": [],
   "source": []
  },
  {
   "cell_type": "code",
   "execution_count": null,
   "metadata": {},
   "outputs": [],
   "source": [
    "plot_magma_evolution(sys_T.history, T_lims=[1475, 1700])"
   ]
  },
  {
   "cell_type": "code",
   "execution_count": null,
   "metadata": {},
   "outputs": [],
   "source": [
    "plot_magma_evolution(sys_S.history, T_lims=[1475, 1700])"
   ]
  },
  {
   "cell_type": "code",
   "execution_count": null,
   "metadata": {},
   "outputs": [],
   "source": []
  },
  {
   "cell_type": "code",
   "execution_count": null,
   "metadata": {},
   "outputs": [],
   "source": [
    "moon_press = pd.read_csv('data/Moon_press.csv',header=0)\n",
    "moon_press"
   ]
  },
  {
   "cell_type": "code",
   "execution_count": null,
   "metadata": {},
   "outputs": [],
   "source": []
  },
  {
   "cell_type": "code",
   "execution_count": null,
   "metadata": {},
   "outputs": [],
   "source": [
    "def transform_mass(m):\n",
    "    return m**(2/3)\n",
    "\n",
    "def apply_constrained_poly_endpoints(poly_coef:np.array, Pmax:float):\n",
    "    xends = np.array([0, 1])\n",
    "    yends = np.polyval(poly_coef, [0,1])-(1-xends)*Pmax\n",
    "\n",
    "    poly_coef = poly_coef.copy()\n",
    "    poly_coef[-1] -= yends[0]\n",
    "    poly_coef[-2] -= yends[1]-yends[0]\n",
    "    return poly_coef\n",
    "\n",
    "def fit_press_poly(mass_frac:np.ndarray, P:np.ndarray, deg:int=4):\n",
    "    mval = transform_mass(mass_frac)\n",
    "\n",
    "    poly_coef0 = np.polyfit(mval, P, deg)\n",
    "    Pmax = P.max()\n",
    "    poly_coef = apply_constrained_poly_endpoints(poly_coef0, Pmax)\n",
    "    return poly_coef\n",
    "\n",
    "def eval_press(mass_frac:np.ndarray, poly_coef:np.ndarray):\n",
    "    if type(mass_frac) is not np.ndarray:\n",
    "        mass_frac = np.array(mass_frac)\n",
    "        \n",
    "    mval = transform_mass(mass_frac)\n",
    "    return np.polyval(poly_coef, mval)\n",
    "    \n",
    "\n",
    "\n",
    "m_frac = np.linspace(0, 1,101)\n",
    "\n",
    "poly_coef = fit_press_poly(moon_press['mass_frac'], moon_press['P'])\n",
    "\n",
    "\n",
    "mval = transform_mass(moon_press['mass_frac'])\n",
    "mmod = transform_mass(m_frac)\n",
    "\n",
    "# poly_coef = np.polyfit(mval, moon_press['P'],4)\n",
    "Pmax = moon_press['P'].max()\n",
    "# poly_coef = apply_constrained_poly_endpoints(poly_coef, Pmax)\n",
    "\n",
    "\n",
    "\n",
    "\n",
    "plt.figure()\n",
    "plt.plot(mval, moon_press['P']-(1-mval)*Pmax, '.-')\n",
    "# plt.plot(mmod, np.polyval(poly_coef, mmod)-(1-mmod)*Pmax-correction(mmod), 'r--')\n",
    "\n",
    "plt.plot(mmod, np.polyval(poly_coef, mmod)-(1-mmod)*Pmax, 'r--')\n",
    "\n"
   ]
  },
  {
   "cell_type": "code",
   "execution_count": null,
   "metadata": {},
   "outputs": [],
   "source": [
    "eval_press([0,1], poly_coef)"
   ]
  },
  {
   "cell_type": "code",
   "execution_count": null,
   "metadata": {},
   "outputs": [],
   "source": [
    "plt.figure()\n",
    "plt.plot(moon_press['mass_frac'], moon_press['P'], 'o')\n",
    "plt.plot(m_frac, eval_press(m_frac, poly_coef), 'r--')\n",
    "plt.plot(m_frac, (1-m_frac)*Pmax, ':', color=[.5,.5,.5])\n",
    "\n",
    "mass_samples = 1-.9**np.arange(15)\n",
    "plt.plot(mass_samples, eval_press(mass_samples, poly_coef), 'mx')"
   ]
  },
  {
   "cell_type": "code",
   "execution_count": null,
   "metadata": {},
   "outputs": [],
   "source": []
  },
  {
   "cell_type": "code",
   "execution_count": null,
   "metadata": {},
   "outputs": [],
   "source": []
  },
  {
   "cell_type": "code",
   "execution_count": null,
   "metadata": {},
   "outputs": [],
   "source": []
  },
  {
   "cell_type": "code",
   "execution_count": null,
   "metadata": {},
   "outputs": [],
   "source": [
    "poly_coef = np.polyfit(moon_press['mass_frac']**.5, moon_press['P'],2)\n",
    "\n",
    "m_frac = np.linspace(0, 1,101)\n",
    "plt.figure()\n",
    "plt.plot(moon_press['mass_frac']**.5, moon_press['P'], '.-')\n",
    "plt.plot(m_frac**.5, np.polyval(poly_coef, m_frac**.5), 'r--')"
   ]
  },
  {
   "cell_type": "code",
   "execution_count": null,
   "metadata": {},
   "outputs": [],
   "source": []
  }
 ],
 "metadata": {
  "kernelspec": {
   "display_name": "Python 3.9.7 ('base')",
   "language": "python",
   "name": "python3"
  },
  "language_info": {
   "codemirror_mode": {
    "name": "ipython",
    "version": 3
   },
   "file_extension": ".py",
   "mimetype": "text/x-python",
   "name": "python",
   "nbconvert_exporter": "python",
   "pygments_lexer": "ipython3",
   "version": "3.9.7"
  },
  "orig_nbformat": 4,
  "vscode": {
   "interpreter": {
    "hash": "d4d1e4263499bec80672ea0156c357c1ee493ec2b1c70f0acce89fc37c4a6abe"
   }
  }
 },
 "nbformat": 4,
 "nbformat_minor": 2
}
