{
 "cells": [
  {
   "cell_type": "code",
   "execution_count": null,
   "metadata": {},
   "outputs": [],
   "source": [
    "import magmaforge\n",
    "import pandas as pd\n",
    "import numpy as np\n",
    "\n",
    "import matplotlib.pyplot as plt\n",
    "import seaborn as sns\n",
    "\n",
    "import thermoengine as thermo\n",
    "\n",
    "\n",
    "import warnings\n",
    "warnings.filterwarnings(\"ignore\", category=DeprecationWarning)"
   ]
  },
  {
   "cell_type": "code",
   "execution_count": null,
   "metadata": {},
   "outputs": [],
   "source": [
    "\n",
    "\n",
    "def plot_phase_fractions(phase_frac_tbl, ax=None):\n",
    "    mineral_frac_tbl = phase_frac_tbl.drop(columns=['Liquid','Water'])\n",
    "    # mineral_frac_tbl.index = [int(iT-273) for iT in mineral_frac_tbl.index]\n",
    "    mineral_frac_tbl.index = mineral_frac_tbl.index - 273\n",
    "    fTOL = 1e-4\n",
    "    cols = mineral_frac_tbl.max(axis=0)>fTOL\n",
    "\n",
    "    mineral_frac_tbl.loc[::-1, cols].plot.bar(stacked=True, ax=ax)\n",
    "    \n",
    "    if ax is None:\n",
    "        ax = plt.gca()\n",
    "        \n",
    "    ax.set_xlabel('Temp [C]')\n",
    "    ax.set_ylabel('Mass Fraction')\n",
    "    \n",
    "def plot_magma_evolution(history):\n",
    "    phase_frac_tbl = history.phase_frac_table\n",
    "    \n",
    "    liq_comp = history.liquid_comp_table\n",
    "    liq_comp.index -= 273.15\n",
    "\n",
    "\n",
    "    fig, ax = plt.subplots(nrows=3, sharex=False, squeeze=True, figsize=(5,10) )\n",
    "\n",
    "    iax = ax[0]\n",
    "    plot_phase_fractions(phase_frac_tbl, ax=iax)\n",
    "    iax.set_xticklabels([])\n",
    "    iax.set_xlabel('')\n",
    "\n",
    "    iax=ax[1]\n",
    "    liq_comp.plot(y=['MgO','FeO','Fe2O3','Al2O3','K2O','Na2O','H2O'], ax=iax).legend(loc='upper left')\n",
    "    # iax.set_xlabel('Temp [C]')\n",
    "    iax.set_ylabel('Magma Comp [wt%]')\n",
    "    iax.set_xticklabels([])\n",
    "\n",
    "\n",
    "    iax=ax[2]\n",
    "    liq_comp.plot(y='SiO2', ax=iax, legend=True)\n",
    "    iax.set_xlabel('Temp [C]')\n",
    "    iax.set_ylabel('Magma Comp [wt%]')\n"
   ]
  },
  {
   "cell_type": "code",
   "execution_count": null,
   "metadata": {},
   "outputs": [],
   "source": [
    "comp={\n",
    "    'Thingmuli_dry': {\n",
    "        'SiO2':49.91,\n",
    "        'TiO2': 1.47,\n",
    "        'Al2O3': 17.91,\n",
    "        'Fe2O3': 2.45,\n",
    "        'FeO':  7.02,\n",
    "        'MnO':  0.0, #0.16\n",
    "        'MgO':  6.62,\n",
    "        'CaO':  10.02,\n",
    "        'Na2O':  3.02,\n",
    "        'K2O':  0.64,\n",
    "        'P2O5':  0.2,\n",
    "        'H2O':  0.0,\n",
    "        'CO2': 1e-8,},\n",
    "}\n",
    "T0 = 1200.00+273+50"
   ]
  },
  {
   "cell_type": "markdown",
   "metadata": {},
   "source": []
  },
  {
   "cell_type": "code",
   "execution_count": null,
   "metadata": {},
   "outputs": [],
   "source": [
    "# sys = magmaforge.System(comp=comp['Thingmuli_dry'], P=1e3, T0=T0, \n",
    "#                             O2_buffer='NNO', del_fO2=0, model_name='v1.2',\n",
    "#                             frac_remains=.001)\n",
    "\n",
    "# sys.crystallize(method='frac', fix_fO2=True, Tstep=5, calc_args={'stats':False, 'debug':0});\n"
   ]
  },
  {
   "cell_type": "code",
   "execution_count": null,
   "metadata": {},
   "outputs": [],
   "source": [
    "# Rhyolite MELTS automatic method\n",
    "\n",
    "sys = magmaforge.System(comp=comp['Thingmuli_dry'], P=1e3, T0=T0, \n",
    "                            O2_buffer=None, model_name='v1.2',\n",
    "                            frac_remains=.001)\n",
    "sys.crystallize(method='frac', Tstep=5, calc_args={'stats':False, 'debug':0});\n",
    "\n"
   ]
  },
  {
   "cell_type": "code",
   "execution_count": null,
   "metadata": {},
   "outputs": [],
   "source": [
    "\n",
    "# Rhyolite MELTS manual method\n",
    "modelDB = thermo.model.Database(liq_mod='v1.2')\n",
    "Liq = modelDB.get_phase('Liq')\n",
    "\n",
    "sys = magmaforge.System(comp=comp['Thingmuli_dry'], P=1e3, T0=T0, \n",
    "                            O2_buffer=None,  Liq=Liq, has_CO2=True,\n",
    "                            frac_remains=.001)\n",
    "sys.crystallize(method='frac', Tstep=5, calc_args={'stats':False, 'debug':0});"
   ]
  },
  {
   "cell_type": "code",
   "execution_count": null,
   "metadata": {},
   "outputs": [],
   "source": [
    "plot_magma_evolution(sys.history)"
   ]
  },
  {
   "cell_type": "code",
   "execution_count": null,
   "metadata": {},
   "outputs": [],
   "source": [
    "plot_magma_evolution(sys.history)"
   ]
  },
  {
   "cell_type": "code",
   "execution_count": null,
   "metadata": {},
   "outputs": [],
   "source": [
    "def get_magma_evo_table(sys:magmaforge.System) -> pd.DataFrame:\n",
    "    evo_tbl = sys.history.liquid_comp_table\n",
    "    evo_tbl['rho'] = sys.history.get_liquid_densities()\n",
    "    evo_tbl['rho_ref'] = sys.history.get_liquid_ref_densities()\n",
    "    evo_tbl['T'] = sys.history.get_temps()\n",
    "    mol_Fe3 = 2*evo_tbl['Fe2O3']/159.6922\n",
    "    mol_Fe2 = evo_tbl['FeO']/71.8464\n",
    "    \n",
    "    evo_tbl['Fe_cat_ratio'] = mol_Fe3/mol_Fe2\n",
    "    evo_tbl['log_Fe_cat_ratio'] = np.log10(evo_tbl['Fe_cat_ratio'])\n",
    "    \n",
    "    return evo_tbl\n",
    "\n",
    "magma_evo = get_magma_evo_table(sys)"
   ]
  },
  {
   "cell_type": "code",
   "execution_count": null,
   "metadata": {},
   "outputs": [],
   "source": [
    "sns.lineplot(magma_evo, x='T', y='log_Fe_cat_ratio')\n",
    "plt.xlabel('Temp  [K]')\n",
    "plt.ylabel('log$_{10}$ ( Fe$^{3+}$/ Fe$^{2+}$)')"
   ]
  },
  {
   "cell_type": "code",
   "execution_count": null,
   "metadata": {},
   "outputs": [],
   "source": [
    "sns.lineplot(magma_evo, x='T', y='log_Fe_cat_ratio')\n",
    "plt.xlabel('Temp  [K]')\n",
    "plt.ylabel('log$_{10}$ ( Fe$^{3+}$/ Fe$^{2+}$)')"
   ]
  },
  {
   "cell_type": "code",
   "execution_count": null,
   "metadata": {},
   "outputs": [],
   "source": []
  }
 ],
 "metadata": {
  "kernelspec": {
   "display_name": "Python 3 (ipykernel)",
   "language": "python",
   "name": "python3"
  },
  "language_info": {
   "codemirror_mode": {
    "name": "ipython",
    "version": 3
   },
   "file_extension": ".py",
   "mimetype": "text/x-python",
   "name": "python",
   "nbconvert_exporter": "python",
   "pygments_lexer": "ipython3",
   "version": "3.10.11"
  },
  "vscode": {
   "interpreter": {
    "hash": "d4d1e4263499bec80672ea0156c357c1ee493ec2b1c70f0acce89fc37c4a6abe"
   }
  }
 },
 "nbformat": 4,
 "nbformat_minor": 4
}
