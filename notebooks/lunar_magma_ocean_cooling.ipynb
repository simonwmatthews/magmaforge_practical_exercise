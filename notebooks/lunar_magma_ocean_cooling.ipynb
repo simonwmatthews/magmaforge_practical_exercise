{
 "cells": [
  {
   "cell_type": "code",
   "execution_count": null,
   "metadata": {},
   "outputs": [],
   "source": [
    "import magmaforge\n",
    "import pandas as pd\n",
    "import numpy as np\n",
    "import matplotlib.pyplot as plt"
   ]
  },
  {
   "cell_type": "code",
   "execution_count": null,
   "metadata": {},
   "outputs": [],
   "source": []
  },
  {
   "cell_type": "code",
   "execution_count": null,
   "metadata": {},
   "outputs": [],
   "source": [
    "moon_press = pd.read_csv('data/Moon_press.csv',header=0)"
   ]
  },
  {
   "cell_type": "code",
   "execution_count": null,
   "metadata": {},
   "outputs": [],
   "source": [
    "def transform_mass(m):\n",
    "    return m**(2/3)\n",
    "\n",
    "def apply_constrained_poly_endpoints(poly_coef:np.array, Pmax:float):\n",
    "    xends = np.array([0, 1])\n",
    "    yends = np.polyval(poly_coef, [0,1])-(1-xends)*Pmax\n",
    "\n",
    "    poly_coef = poly_coef.copy()\n",
    "    poly_coef[-1] -= yends[0]\n",
    "    poly_coef[-2] -= yends[1]-yends[0]\n",
    "    return poly_coef\n",
    "\n",
    "def fit_press_poly(mass_frac:np.ndarray, P:np.ndarray, deg:int=4):\n",
    "    mval = transform_mass(mass_frac)\n",
    "\n",
    "    poly_coef0 = np.polyfit(mval, P, deg)\n",
    "    Pmax = P.max()\n",
    "    poly_coef = apply_constrained_poly_endpoints(poly_coef0, Pmax)\n",
    "    return poly_coef\n",
    "\n",
    "def eval_press(mass_frac:np.ndarray, poly_coef:np.ndarray):\n",
    "    if type(mass_frac) is not np.ndarray:\n",
    "        mass_frac = np.array(mass_frac)\n",
    "        \n",
    "    mval = transform_mass(mass_frac)\n",
    "    return np.polyval(poly_coef, mval)\n",
    "    \n",
    "\n",
    "\n",
    "m_frac = np.linspace(0, 1,101)\n",
    "\n",
    "poly_coef = fit_press_poly(moon_press['mass_frac'], moon_press['P'])\n",
    "\n",
    "\n",
    "mval = transform_mass(moon_press['mass_frac'])\n",
    "mmod = transform_mass(m_frac)\n",
    "\n",
    "# poly_coef = np.polyfit(mval, moon_press['P'],4)\n",
    "Pmax = moon_press['P'].max()\n",
    "# poly_coef = apply_constrained_poly_endpoints(poly_coef, Pmax)\n",
    "\n",
    "\n",
    "\n",
    "\n",
    "plt.figure()\n",
    "plt.plot(mval, moon_press['P']-(1-mval)*Pmax, '.-')\n",
    "plt.plot(mmod, np.polyval(poly_coef, mmod)-(1-mmod)*Pmax, 'r--')\n",
    "\n"
   ]
  },
  {
   "cell_type": "code",
   "execution_count": null,
   "metadata": {},
   "outputs": [],
   "source": [
    "plt.figure()\n",
    "plt.plot(moon_press['mass_frac'], moon_press['P'], 'o')\n",
    "plt.plot(m_frac, eval_press(m_frac, poly_coef), 'r--')\n",
    "plt.plot(m_frac, (1-m_frac)*Pmax, ':', color=[.5,.5,.5])\n",
    "\n",
    "mass_samples = 1-.9**np.arange(15)\n",
    "plt.plot(mass_samples, eval_press(mass_samples, poly_coef), 'mx')"
   ]
  },
  {
   "cell_type": "code",
   "execution_count": null,
   "metadata": {},
   "outputs": [],
   "source": []
  },
  {
   "cell_type": "code",
   "execution_count": null,
   "metadata": {},
   "outputs": [],
   "source": []
  },
  {
   "cell_type": "markdown",
   "metadata": {},
   "source": []
  },
  {
   "cell_type": "code",
   "execution_count": null,
   "metadata": {},
   "outputs": [],
   "source": [
    "comp={\n",
    "    'BSE': {\n",
    "        'SiO2': 45.97,\n",
    "        'TiO2':  0.18,\n",
    "        'Al2O3': 4.77,\n",
    "        'Fe2O3': 1e-7,\n",
    "        'FeO':   8.24,\n",
    "        'MnO':   0.0,\n",
    "        'MgO':  36.66,\n",
    "        'CaO':   3.78,\n",
    "        'Na2O':  0.35,\n",
    "        'K2O':   0.04,},\n",
    "    'BSE_MS95': {\n",
    "        'SiO2': 45.5,\n",
    "        'TiO2':  0.00001,\n",
    "        'Al2O3': 4.50,\n",
    "        'FeO':   8.15,\n",
    "        'MnO':   0.0,\n",
    "        'MgO':  38.3,\n",
    "        'CaO':   3.58,\n",
    "        'Na2O':  0.00001,\n",
    "        'K2O':   0.0,},\n",
    "}\n",
    "\n",
    "\n",
    "P = 24e3\n",
    "T0 = 2200.0\n",
    "Tfinal = 1600 + 273-100\n",
    "\n",
    "BSE = comp['BSE_MS95']\n",
    "dNNO = -4\n",
    "\n",
    "model_name = 'pMELTS'"
   ]
  },
  {
   "cell_type": "code",
   "execution_count": null,
   "metadata": {},
   "outputs": [],
   "source": [
    "comp_IW0 = magmaforge.System.adjust_init_redox(T0, P, BSE, dNNO, 'NNO', model_name)\n",
    "Tliq = magmaforge.System.get_liquidus_temp(T0, P, comp_IW0, model_name)\n",
    "comp_IW = magmaforge.System.adjust_init_redox(Tliq, P, BSE, dNNO, 'NNO', model_name)\n",
    "\n",
    "print(Tliq)"
   ]
  },
  {
   "cell_type": "code",
   "execution_count": null,
   "metadata": {},
   "outputs": [],
   "source": [
    "def get_liquidus_entropy(comp, Tliq, P, model_name):\n",
    "    sys_T = magmaforge.System(comp=comp_IW, T0=Tliq, P=P,\n",
    "                            melt_frac_cutoff=.15, model_name=model_name)\n",
    "\n",
    "    return sys_T.total_entropy"
   ]
  },
  {
   "cell_type": "code",
   "execution_count": null,
   "metadata": {},
   "outputs": [],
   "source": [
    "Sliq = get_liquidus_entropy(comp_IW, Tliq, P, model_name)\n",
    "print(Sliq)\n",
    "\n",
    "sys_S = magmaforge.System(comp=comp_IW, T0=Tliq, P=P, frac_remains=1e-5,\n",
    "                          min_potential='H', S0=Sliq, model_name=model_name)\n",
    "\n",
    "print(sys_S.total_entropy)\n",
    "print(sys_S.state.conditions)\n",
    "print(f\"Fe2O3 = {sys_S.state.liquid.comp['Fe2O3']}\")"
   ]
  },
  {
   "cell_type": "code",
   "execution_count": null,
   "metadata": {},
   "outputs": [],
   "source": [
    "Tfinal"
   ]
  },
  {
   "cell_type": "code",
   "execution_count": null,
   "metadata": {},
   "outputs": [],
   "source": [
    "thresh_xtal_frac = 0.1\n",
    "dS = 0.5"
   ]
  },
  {
   "cell_type": "code",
   "execution_count": null,
   "metadata": {},
   "outputs": [],
   "source": [
    "def crystalize_to_threshold(sys_S, P, thresh_xtal_frac, dS=1.0, Tfinal=1779.0):\n",
    "    while(sys_S.melt_fraction > 1-thresh_xtal_frac):\n",
    "        sys_S.cool(P=P, dS=dS)\n",
    "        print(f'   T = {sys_S.T}')\n",
    "        if sys_S.T < Tfinal:\n",
    "            break"
   ]
  },
  {
   "cell_type": "code",
   "execution_count": null,
   "metadata": {},
   "outputs": [],
   "source": [
    "while(sys_S.mass_fraction > 0.01):\n",
    "    print(f'dS = {dS}')\n",
    "    crystallized_frac = 1 - sys_S.mass_fraction\n",
    "    P_GPA = eval_press(crystallized_frac, poly_coef)\n",
    "    P = P_GPA*1e4  # convert to bars\n",
    "    print(f'P = {P}')\n",
    "    crystalize_to_threshold(sys_S, P, thresh_xtal_frac, dS=dS)\n",
    "    sys_S.fractionate_phases()\n",
    "    # sys_S.cool(P=P, dS=0.01*dS)\n",
    "    # dS = np.maximum(dS*(1-thresh_xtal_frac),0.25)\n",
    "    "
   ]
  },
  {
   "cell_type": "code",
   "execution_count": null,
   "metadata": {},
   "outputs": [],
   "source": [
    "1-sys_S.mass_fraction"
   ]
  },
  {
   "cell_type": "code",
   "execution_count": null,
   "metadata": {},
   "outputs": [],
   "source": []
  },
  {
   "cell_type": "code",
   "execution_count": null,
   "metadata": {},
   "outputs": [],
   "source": [
    "plt.figure()\n",
    "plt.plot(sys_S.history.get_temps()-273, sys_S.history.get_melt_frac(),'.-', label='S')\n",
    "plt.xlabel('T')\n",
    "plt.ylabel('melt frac')\n",
    "plt.legend()\n",
    "\n",
    "plt.figure()\n",
    "plt.plot(sys_S.history.get_temps()-273, sys_S.history.get_total_mass(),'.-', label='S')\n",
    "plt.xlabel('T')\n",
    "plt.ylabel('mass frac')\n",
    "plt.legend()\n",
    "\n",
    "plt.figure()\n",
    "plt.plot(sys_S.history.get_temps()-273, sys_S.history.get_total_entropy(),'.-', label='S')\n",
    "plt.xlabel('T')\n",
    "plt.ylabel('Stot')"
   ]
  },
  {
   "cell_type": "code",
   "execution_count": null,
   "metadata": {},
   "outputs": [],
   "source": [
    "sys_S.history.phase_frac_table"
   ]
  },
  {
   "cell_type": "code",
   "execution_count": null,
   "metadata": {},
   "outputs": [],
   "source": [
    "phase_frac_tbl = sys_S.history.phase_frac_table\n",
    "phase_frac_tbl.drop"
   ]
  },
  {
   "cell_type": "code",
   "execution_count": null,
   "metadata": {},
   "outputs": [],
   "source": [
    "phs_present_tbl = phase_frac_tbl.loc[:,(phase_frac_tbl != 0).any(axis=0)]\n"
   ]
  },
  {
   "cell_type": "code",
   "execution_count": null,
   "metadata": {},
   "outputs": [],
   "source": [
    "crystallize_tbl = phs_present_tbl.drop(columns='Liquid')\n",
    "mineral_assem_tbl = (crystallize_tbl.T/crystallize_tbl.sum(axis=1)).T\n",
    "\n",
    "mineral_assem_tbl.index = 100-sys_S.history.get_total_mass()"
   ]
  },
  {
   "cell_type": "code",
   "execution_count": null,
   "metadata": {},
   "outputs": [],
   "source": [
    "mineral_assem_tbl.plot.area(lw=0)\n",
    "plt.xlabel('Solidification of LMO [%]')\n",
    "plt.ylabel('Crystallized Mineral Fraction')"
   ]
  },
  {
   "cell_type": "code",
   "execution_count": null,
   "metadata": {},
   "outputs": [],
   "source": [
    "mineral_assem_tbl"
   ]
  },
  {
   "cell_type": "code",
   "execution_count": null,
   "metadata": {},
   "outputs": [],
   "source": []
  },
  {
   "cell_type": "code",
   "execution_count": null,
   "metadata": {},
   "outputs": [],
   "source": []
  },
  {
   "cell_type": "code",
   "execution_count": null,
   "metadata": {},
   "outputs": [],
   "source": []
  },
  {
   "cell_type": "code",
   "execution_count": null,
   "metadata": {},
   "outputs": [],
   "source": [
    "magmaforge.plot.magma_evolution(sys_S.history)"
   ]
  },
  {
   "cell_type": "code",
   "execution_count": null,
   "metadata": {},
   "outputs": [],
   "source": [
    "1234+273\n"
   ]
  },
  {
   "cell_type": "code",
   "execution_count": null,
   "metadata": {},
   "outputs": [],
   "source": []
  }
 ],
 "metadata": {
  "kernelspec": {
   "display_name": "Python 3 (ipykernel)",
   "language": "python",
   "name": "python3"
  },
  "language_info": {
   "codemirror_mode": {
    "name": "ipython",
    "version": 3
   },
   "file_extension": ".py",
   "mimetype": "text/x-python",
   "name": "python",
   "nbconvert_exporter": "python",
   "pygments_lexer": "ipython3",
   "version": "3.10.8"
  },
  "vscode": {
   "interpreter": {
    "hash": "d4d1e4263499bec80672ea0156c357c1ee493ec2b1c70f0acce89fc37c4a6abe"
   }
  }
 },
 "nbformat": 4,
 "nbformat_minor": 4
}
